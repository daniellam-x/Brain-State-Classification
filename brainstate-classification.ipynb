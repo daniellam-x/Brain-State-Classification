{
 "cells": [
  {
   "cell_type": "code",
   "execution_count": 1,
   "id": "39a1ae04",
   "metadata": {},
   "outputs": [],
   "source": [
    "import numpy as np\n",
    "import nibabel as nib\n",
    "import matplotlib.pyplot as plt\n",
    "from sklearn.decomposition import PCA\n",
    "from scipy.io import loadmat\n",
    "from sklearn.model_selection import train_test_split, cross_val_score, KFold\n",
    "from sklearn.pipeline import Pipeline\n",
    "from sklearn.svm import SVC"
   ]
  },
  {
   "cell_type": "markdown",
   "id": "02e981b6",
   "metadata": {},
   "source": [
    "## Import and load fMRI data"
   ]
  },
  {
   "cell_type": "code",
   "execution_count": 2,
   "id": "cac1e939",
   "metadata": {},
   "outputs": [],
   "source": [
    "#import and load fmri data\n",
    "im_path = \"sub-01/ses-test/func/sub-01_ses-test_task-fingerfootlips_bold.nii\"\n",
    "img = nib.load(im_path)\n",
    "fmri_data = img.get_fdata()"
   ]
  },
  {
   "cell_type": "code",
   "execution_count": 4,
   "id": "7dfdb506",
   "metadata": {},
   "outputs": [],
   "source": [
    "#load labels\n",
    "label_path = 'label.mat'\n",
    "mat_labels = loadmat(label_path)"
   ]
  },
  {
   "cell_type": "markdown",
   "id": "ce646d6d",
   "metadata": {},
   "source": [
    "## Threshold and mask the data"
   ]
  },
  {
   "cell_type": "code",
   "execution_count": 3,
   "id": "fc41d518",
   "metadata": {},
   "outputs": [],
   "source": [
    "#set threshold and threshold data\n",
    "threshold_value = 255\n",
    "thresholded_data = np.where(fmri_data >= threshold_value, 1, 0)\n",
    "#apply mask to the data\n",
    "brain_mask = np.sum(thresholded_data, axis=-1) > 0\n",
    "reshaped_brain_mask = np.expand_dims(brain_mask, axis=-1)\n",
    "masked_data = fmri_data * reshaped_brain_mask"
   ]
  },
  {
   "cell_type": "markdown",
   "id": "512e236d",
   "metadata": {},
   "source": [
    "## Preprocess labels and training data"
   ]
  },
  {
   "cell_type": "code",
   "execution_count": 5,
   "id": "1e0f4d1d",
   "metadata": {},
   "outputs": [],
   "source": [
    "#preprocess labels into a list for training\n",
    "arr_labels = mat_labels['label']\n",
    "labels = []\n",
    "for i in range(len(arr_labels)):\n",
    "    labels.append(arr_labels[i][0])"
   ]
  },
  {
   "cell_type": "code",
   "execution_count": 6,
   "id": "a77d3b91",
   "metadata": {},
   "outputs": [],
   "source": [
    "#reshape the data to (features, samples) for training\n",
    "reshaped_data = np.reshape(masked_data, (64 * 64 * 30, 184)).T\n",
    "\n",
    "#convert labels to a NumPy array\n",
    "labels_array = np.array(labels)"
   ]
  },
  {
   "cell_type": "markdown",
   "id": "5e7b7e1a",
   "metadata": {},
   "source": [
    "## Conduct PCA"
   ]
  },
  {
   "cell_type": "code",
   "execution_count": 7,
   "id": "830b8f5b",
   "metadata": {},
   "outputs": [],
   "source": [
    "#set pca parameter and initialize\n",
    "n_components = 45\n",
    "#initialize pca and fit to training data\n",
    "pca = PCA(n_components = n_components, svd_solver ='randomized',\n",
    "          whiten = True).fit(reshaped_data)\n",
    "\n",
    "#apply pca to data\n",
    "X_pca = pca.transform(reshaped_data)"
   ]
  },
  {
   "cell_type": "markdown",
   "id": "92097fee",
   "metadata": {},
   "source": [
    "## Initialize SVM model"
   ]
  },
  {
   "cell_type": "code",
   "execution_count": 8,
   "id": "4d7917a6",
   "metadata": {},
   "outputs": [],
   "source": [
    "#initialize svm model\n",
    "svm = SVC(kernel='linear')\n",
    "#create a pipeline with PCA and SVM\n",
    "pipeline = Pipeline([('pca', pca), ('svm', svm)])\n",
    "\n",
    "#use 10-fold cross-validation\n",
    "kf = KFold(n_splits=10, shuffle=True, random_state=42)"
   ]
  },
  {
   "cell_type": "markdown",
   "id": "475ac704",
   "metadata": {},
   "source": [
    "## Cross Validation"
   ]
  },
  {
   "cell_type": "code",
   "execution_count": 9,
   "id": "3d150ff0",
   "metadata": {},
   "outputs": [
    {
     "name": "stdout",
     "output_type": "stream",
     "text": [
      "Cross-Validation Scores: [0.68421053 0.94736842 0.84210526 1.         0.94444444 0.94444444\n",
      " 0.83333333 0.94444444 0.83333333 0.88888889]\n",
      "\n",
      "Mean Accuracy: 0.8862573099415204\n"
     ]
    }
   ],
   "source": [
    "#perform cross-validation\n",
    "cv_scores = cross_val_score(pipeline, X_pca, labels_array, cv=kf)\n",
    "\n",
    "#display the cross-validation scores\n",
    "print(\"Cross-Validation Scores:\", cv_scores)\n",
    "print(\"\\nMean Accuracy:\", np.mean(cv_scores))"
   ]
  }
 ],
 "metadata": {
  "kernelspec": {
   "display_name": "Python 3 (ipykernel)",
   "language": "python",
   "name": "python3"
  },
  "language_info": {
   "codemirror_mode": {
    "name": "ipython",
    "version": 3
   },
   "file_extension": ".py",
   "mimetype": "text/x-python",
   "name": "python",
   "nbconvert_exporter": "python",
   "pygments_lexer": "ipython3",
   "version": "3.11.5"
  }
 },
 "nbformat": 4,
 "nbformat_minor": 5
}
